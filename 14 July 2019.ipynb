{
 "cells": [
  {
   "cell_type": "code",
   "execution_count": 12,
   "metadata": {},
   "outputs": [
    {
     "name": "stdout",
     "output_type": "stream",
     "text": [
      "Pizza List: [{'small': '350', 'regular': '600', 'large': '800'}]\n"
     ]
    }
   ],
   "source": [
    "import json\n",
    "import csv\n",
    "\n",
    "\n",
    "class pizza:\n",
    "    \n",
    "    #constructor for the pizza class\n",
    "    def __init__(self):\n",
    "        pizza_list = []\n",
    "        pizza_details ={}\n",
    "        quit= \"\"\n",
    "        #loop for populating dictionary\n",
    "        try:\n",
    "            while(quit != \"q\"):\n",
    "                pizza_type = input(\"Enter Pizza Name: \");\n",
    "                pizza_price = input(\"Enter Pizza Price: \");\n",
    "                quit = input(\"Press 'q' to exit\")\n",
    "                pizza_details.update( {pizza_type:pizza_price} )\n",
    "            #appending dictionaries to list    \n",
    "            pizza_list.append(pizza_details.copy())\n",
    "            #dumping to json file\n",
    "            with open(\"menu.json\", \"w\") as file:\n",
    "                    json.dump(pizza_list,file)\n",
    "        except:\n",
    "            print(\"File Not Found\")\n",
    "    \n",
    "    #method for getting the pizza list\n",
    "    def get_pizza_list():\n",
    "        try:\n",
    "            #reading from file\n",
    "            with open(\"menu.json\") as file:\n",
    "                pizza = json.load(file)\n",
    "                print(\"Pizza List:\" ,pizza)\n",
    "        except:\n",
    "            print(\"File Not Found\")\n",
    "            \n",
    "    def convert_to_csv():\n",
    "        with open(\"menu.json\") as file:\n",
    "            pizza = json.load(file)\n",
    "\n",
    "        for pizzas in pizza:\n",
    "            for k,v in pizzas.items():\n",
    "                with open(\"whatever.csv\", \"a\", newline=\"\") as f:\n",
    "                    data_handler = csv.writer(f, delimiter=\",\")\n",
    "                    data_handler.writerow([k,v])\n",
    "            \n",
    "                \n",
    "                \n",
    "        \n",
    "            \n",
    "                \n",
    "                    \n",
    "            \n",
    "                \n",
    "                \n",
    "\n",
    "#instantiating and calling pizza object            \n",
    "#menu = pizza()\n",
    "pizza.get_pizza_list()\n",
    "pizza.convert_to_csv()"
   ]
  },
  {
   "cell_type": "code",
   "execution_count": null,
   "metadata": {},
   "outputs": [],
   "source": []
  }
 ],
 "metadata": {
  "kernelspec": {
   "display_name": "Python 3",
   "language": "python",
   "name": "python3"
  },
  "language_info": {
   "codemirror_mode": {
    "name": "ipython",
    "version": 3
   },
   "file_extension": ".py",
   "mimetype": "text/x-python",
   "name": "python",
   "nbconvert_exporter": "python",
   "pygments_lexer": "ipython3",
   "version": "3.7.3"
  }
 },
 "nbformat": 4,
 "nbformat_minor": 2
}
