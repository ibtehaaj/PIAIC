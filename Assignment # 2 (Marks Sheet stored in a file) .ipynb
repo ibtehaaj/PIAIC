{
 "cells": [
  {
   "cell_type": "code",
   "execution_count": 18,
   "metadata": {},
   "outputs": [
    {
     "name": "stdout",
     "output_type": "stream",
     "text": [
      "Enter Name: Muhammad Asjal Khan\n",
      "Enter Father Name: Muhammad Amir Khan\n",
      "Enter Age:18\n",
      "Enter Statistics Marks: 88\n",
      "Enter Linear Algebra Marks: 70\n",
      "Enter Discrete Mathematics Marks: 55\n",
      "Enter Data Structures Marks: 78\n",
      "Enter Automata Theory Marks: 66\n",
      "Enter Calculus I Marks: 98\n"
     ]
    }
   ],
   "source": [
    "# program for generating marksheet of 6 subjects\n",
    "\n",
    "#variable declaration\n",
    "name = input(\"Enter Name: \")\n",
    "father_name = input(\"Enter Father Name: \")\n",
    "age = input(\"Enter Age:\")\n",
    "total_marks = 5\n",
    "\n",
    "\n",
    "#receiving input marks\n",
    "Statistics = int(input(\"Enter Statistics Marks: \"))\n",
    "Linear_Algebra = int(input(\"Enter Linear Algebra Marks: \"))\n",
    "Discrete_Mathematics = int(input(\"Enter Discrete Mathematics Marks: \"))\n",
    "Data_Structures = int(input(\"Enter Data Structures Marks: \"))\n",
    "Automata_Theory = int(input(\"Enter Automata Theory Marks: \"))\n",
    "Calculus_I = int(input(\"Enter Calculus I Marks: \"))\n",
    "\n"
   ]
  },
  {
   "cell_type": "code",
   "execution_count": 19,
   "metadata": {},
   "outputs": [
    {
     "name": "stdout",
     "output_type": "stream",
     "text": [
      "75.83333333333333\n"
     ]
    }
   ],
   "source": [
    "#calculating percentage\n",
    "\n",
    "total_marks = Statistics+Linear_Algebra+Discrete_Mathematics+Data_Structures+Automata_Theory+Calculus_I\n",
    "percentage = (total_marks/600)*100\n",
    "print(percentage)"
   ]
  },
  {
   "cell_type": "code",
   "execution_count": 20,
   "metadata": {},
   "outputs": [],
   "source": [
    "#grading the percentage\n",
    "\n",
    "if(percentage >= 90 and percentage <= 100):\n",
    "    grade = 'A+'\n",
    "elif(percentage >= 80 and percentage <= 90):\n",
    "    grade = \"A\"\n",
    "elif(percentage >= 70 and percentage <= 80):\n",
    "    grade = \"B\"\n",
    "elif(percentage >= 60 and percentage <= 70):\n",
    "    grade = \"C\"\n",
    "elif(percentage >= 50 and percentage <= 60):\n",
    "    grade = \"D\"\n",
    "else:\n",
    "    grade = \"F\"\n",
    "    \n",
    "\n"
   ]
  },
  {
   "cell_type": "code",
   "execution_count": 21,
   "metadata": {},
   "outputs": [
    {
     "name": "stdout",
     "output_type": "stream",
     "text": [
      "\n",
      " \t\t\t\t\t***Marksheet***\n",
      "\n",
      "Student's Bio-Data:  \n",
      "Name: Muhammad Asjal Khan\n",
      "Father Name: Muhammad Amir Khan\n",
      "Age: 18\n",
      "\n",
      "Summary of Marks:  \n",
      "Statistics:  88 \n",
      "Linear Algebra: 70 \n",
      "Discrete Mathematics: 55 \n",
      "Data Structures: 78 \n",
      "Automata Theory: 66 \n",
      "Calculus I: 98\n",
      "\n",
      "Obtained Marks:  455 \n",
      "Percentage: 75.83333333333333\n",
      "Grade: B\n",
      "\n",
      " \t\t\t\t\tkeep Working Hard!\n"
     ]
    }
   ],
   "source": [
    "#generating marksheet\n",
    "\n",
    "print(\"\\n \\t\\t\\t\\t\\t***Marksheet***\")\n",
    "print(\"\\nStudent's Bio-Data: \",\"\\nName: \" + name + \"\\nFather Name: \" + father_name + \"\\nAge: \" + str(age))\n",
    "print(\"\\nSummary of Marks: \",\"\\nStatistics: \",Statistics,\"\\nLinear Algebra:\",Linear_Algebra,\"\\nDiscrete Mathematics:\",Discrete_Mathematics,\"\\nData Structures:\",Data_Structures,\"\\nAutomata Theory:\",Automata_Theory,\"\\nCalculus I:\",Calculus_I)\n",
    "print(\"\\nObtained Marks: \",total_marks, \"\\nPercentage: \" + str(percentage) + \"\\nGrade: \" + grade)\n",
    "print(\"\\n \\t\\t\\t\\t\\tkeep Working Hard!\")"
   ]
  },
  {
   "cell_type": "code",
   "execution_count": 22,
   "metadata": {},
   "outputs": [],
   "source": [
    "#writing all the data to text file\n",
    "\n",
    "file_name = 'data.txt'\n",
    "with open(file_name, 'w') as file_object: \n",
    "    file_object.write(\"\\n \\t\\t\\t\\t\\t***Marksheet***\")\n",
    "    file_object.write(\"\\nStudent's Bio-Data: \"+ \"\\nName: \" + name + \"\\nFather Name: \" + father_name + \"\\nAge: \" + str(age) + \"\\n\")\n",
    "    file_object.write(\"\\nSummary of Marks: \"+ \"\\nStatistics: \"+ str(Statistics) + \"\\nLinear Algebra:\"+ str(Linear_Algebra) + \"\\nDiscrete Mathematics:\" + str(Discrete_Mathematics) + \"\\nData Structures:\" + str(Data_Structures) + \"\\nAutomata Theory:\" + str(Automata_Theory) + \"\\nCalculus I:\" + str(Calculus_I) + \"\\n\" )    \n",
    "    file_object.write(\"\\nObtained Marks: \" + str(total_marks) + \"\\nPercentage: \" + str(percentage) + \"\\nGrade: \" + grade + \"\\n\")    \n",
    "    file_object.write(\"\\n \\t\\t\\t\\t\\tkeep Working Hard!\")    \n",
    "    file_object.write(\"\\n\\n\")    \n"
   ]
  },
  {
   "cell_type": "code",
   "execution_count": 23,
   "metadata": {},
   "outputs": [
    {
     "name": "stdout",
     "output_type": "stream",
     "text": [
      "\n",
      " \t\t\t\t\t***Marksheet***\n",
      "Student's Bio-Data: \n",
      "Name: Muhammad Asjal Khan\n",
      "Father Name: Muhammad Amir Khan\n",
      "Age: 18\n",
      "\n",
      "Summary of Marks: \n",
      "Statistics: 88\n",
      "Linear Algebra:70\n",
      "Discrete Mathematics:55\n",
      "Data Structures:78\n",
      "Automata Theory:66\n",
      "Calculus I:98\n",
      "\n",
      "Obtained Marks: 455\n",
      "Percentage: 75.83333333333333\n",
      "Grade: B\n",
      "\n",
      " \t\t\t\t\tkeep Working Hard!\n",
      "\n",
      "\n"
     ]
    }
   ],
   "source": [
    "#reading all the data from text file\n",
    "\n",
    "with open('data.txt') as file_object:\n",
    "    contents = file_object.read()    \n",
    "    print(contents)"
   ]
  },
  {
   "cell_type": "code",
   "execution_count": null,
   "metadata": {},
   "outputs": [],
   "source": []
  }
 ],
 "metadata": {
  "kernelspec": {
   "display_name": "Python 3",
   "language": "python",
   "name": "python3"
  },
  "language_info": {
   "codemirror_mode": {
    "name": "ipython",
    "version": 3
   },
   "file_extension": ".py",
   "mimetype": "text/x-python",
   "name": "python",
   "nbconvert_exporter": "python",
   "pygments_lexer": "ipython3",
   "version": "3.7.3"
  }
 },
 "nbformat": 4,
 "nbformat_minor": 2
}
