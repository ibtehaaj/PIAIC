{
 "cells": [
  {
   "cell_type": "code",
   "execution_count": 2,
   "metadata": {},
   "outputs": [
    {
     "name": "stdout",
     "output_type": "stream",
     "text": [
      "Enter Name: Anees \n",
      "Enter Father Name: Ahmad\n",
      "Enter Age:55\n",
      "Enter Statistics Marks: 75\n",
      "Enter Linear Algebra Marks: 65\n",
      "Enter Discrete Mathematics Marks: 60\n",
      "Enter Data Structures Marks: 80\n",
      "Enter Automata Theory Marks: 65\n",
      "Enter Calculus I Marks: 70\n"
     ]
    }
   ],
   "source": [
    "# program for generating marksheet of 6 subjects\n",
    "\n",
    "#variable declaration\n",
    "name = input(\"Enter Name: \")\n",
    "father_name = input(\"Enter Father Name: \")\n",
    "age = input(\"Enter Age:\")\n",
    "total_marks = 5\n",
    "\n",
    "\n",
    "#receiving input marks\n",
    "Statistics = int(input(\"Enter Statistics Marks: \"))\n",
    "Linear_Algebra = int(input(\"Enter Linear Algebra Marks: \"))\n",
    "Discrete_Mathematics = int(input(\"Enter Discrete Mathematics Marks: \"))\n",
    "Data_Structures = int(input(\"Enter Data Structures Marks: \"))\n",
    "Automata_Theory = int(input(\"Enter Automata Theory Marks: \"))\n",
    "Calculus_I = int(input(\"Enter Calculus I Marks: \"))\n",
    "\n"
   ]
  },
  {
   "cell_type": "code",
   "execution_count": 3,
   "metadata": {},
   "outputs": [
    {
     "name": "stdout",
     "output_type": "stream",
     "text": [
      "69.16666666666667\n"
     ]
    }
   ],
   "source": [
    "#calculating percentage\n",
    "\n",
    "total_marks = Statistics+Linear_Algebra+Discrete_Mathematics+Data_Structures+Automata_Theory+Calculus_I\n",
    "percentage = (total_marks/600)*100\n",
    "print(percentage)"
   ]
  },
  {
   "cell_type": "code",
   "execution_count": 4,
   "metadata": {},
   "outputs": [],
   "source": [
    "#grading the percentage\n",
    "\n",
    "if(percentage >= 90 and percentage <= 100):\n",
    "    grade = 'A+'\n",
    "elif(percentage >= 80 and percentage <= 90):\n",
    "    grade = \"A\"\n",
    "elif(percentage >= 70 and percentage <= 80):\n",
    "    grade = \"B\"\n",
    "elif(percentage >= 60 and percentage <= 70):\n",
    "    grade = \"C\"\n",
    "elif(percentage >= 50 and percentage <= 60):\n",
    "    grade = \"D\"\n",
    "else:\n",
    "    grade = \"F\"\n",
    "    \n",
    "\n"
   ]
  },
  {
   "cell_type": "code",
   "execution_count": 35,
   "metadata": {},
   "outputs": [
    {
     "name": "stdout",
     "output_type": "stream",
     "text": [
      "\n",
      " \t\t\t\t\t***Marksheet***\n",
      "\n",
      "Student's Bio-Data:  \n",
      "Name: Anees \n",
      "Father Name: Ahmad\n",
      "Age: 55\n",
      "\n",
      "Summary of Marks:  \n",
      "Statistics:  75 \n",
      "Linear Algebra: 65 \n",
      "Discrete Mathematics: 60 \n",
      "Data Structures: 80 \n",
      "Automata Theory: 65 \n",
      "Calculus I: 70\n",
      "\n",
      "Obtained Marks:  415 \n",
      "Percentage: 69.16666666666667\n",
      "Grade: C\n",
      "\n",
      " \t\t\t\t\tkeep Working Hard!\n"
     ]
    }
   ],
   "source": [
    "#generating marksheet\n",
    "\n",
    "print(\"\\n \\t\\t\\t\\t\\t***Marksheet***\")\n",
    "print(\"\\nStudent's Bio-Data: \",\"\\nName: \" + name + \"\\nFather Name: \" + father_name + \"\\nAge: \" + str(age))\n",
    "print(\"\\nSummary of Marks: \",\"\\nStatistics: \",Statistics,\"\\nLinear Algebra:\",Linear_Algebra,\"\\nDiscrete Mathematics:\",Discrete_Mathematics,\"\\nData Structures:\",Data_Structures,\"\\nAutomata Theory:\",Automata_Theory,\"\\nCalculus I:\",Calculus_I)\n",
    "print(\"\\nObtained Marks: \",total_marks, \"\\nPercentage: \" + str(percentage) + \"\\nGrade: \" + grade)\n",
    "print(\"\\n \\t\\t\\t\\t\\tkeep Working Hard!\")"
   ]
  },
  {
   "cell_type": "code",
   "execution_count": null,
   "metadata": {},
   "outputs": [],
   "source": []
  },
  {
   "cell_type": "code",
   "execution_count": null,
   "metadata": {},
   "outputs": [],
   "source": []
  }
 ],
 "metadata": {
  "kernelspec": {
   "display_name": "Python 3",
   "language": "python",
   "name": "python3"
  },
  "language_info": {
   "codemirror_mode": {
    "name": "ipython",
    "version": 3
   },
   "file_extension": ".py",
   "mimetype": "text/x-python",
   "name": "python",
   "nbconvert_exporter": "python",
   "pygments_lexer": "ipython3",
   "version": "3.7.3"
  }
 },
 "nbformat": 4,
 "nbformat_minor": 2
}
