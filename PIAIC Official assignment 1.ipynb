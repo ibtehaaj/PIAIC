{
 "cells": [
  {
   "cell_type": "code",
   "execution_count": 1,
   "metadata": {},
   "outputs": [
    {
     "name": "stdout",
     "output_type": "stream",
     "text": [
      "Enter radius : 5\n",
      "\n",
      "Area of Circle is    78.5\n"
     ]
    }
   ],
   "source": [
    "#program for area of circle\n",
    "\n",
    "radius = float(input(\"Enter radius: \"))\n",
    "area = 3.14*(radius*radius)\n",
    "print(\"\\nArea of Circle is\", area)"
   ]
  },
  {
   "cell_type": "code",
   "execution_count": 2,
   "metadata": {},
   "outputs": [
    {
     "name": "stdout",
     "output_type": "stream",
     "text": [
      "Enter number: 5\n",
      "\n",
      "Number is Positive.\n"
     ]
    }
   ],
   "source": [
    "#program to check if a number is positive, negative or zero \n",
    "\n",
    "num = int(input(\"Enter number: \"))\n",
    "\n",
    "if num > 0:\n",
    "    print(\"\\nNumber is Positive.\")\n",
    "    \n",
    "elif num < 0:\n",
    "    print(\"\\nNumber is Negative\")\n",
    "    \n",
    "else:\n",
    "    print(\"\\nYou Entered ZERO\")"
   ]
  },
  {
   "cell_type": "code",
   "execution_count": 23,
   "metadata": {},
   "outputs": [
    {
     "name": "stdout",
     "output_type": "stream",
     "text": [
      "Enter Number: 10\n",
      "Enter Number: 5\n",
      "Number 10 is completely divisible by 5\n"
     ]
    }
   ],
   "source": [
    "# program to check whether a number is completely divisible by another number \n",
    "\n",
    "numerator = int(input(\"Enter Number: \"))\n",
    "denominator = int(input(\"Enter Number: \"))\n",
    "\n",
    "if( numerator %  denominator == 0 ):\n",
    "    print(\"Number\", numerator, \"is completely divisible by\", denominator)\n",
    "else:\n",
    "    print(\"Number\", numerator, \"is not completely divisible by\", denominator)"
   ]
  },
  {
   "cell_type": "code",
   "execution_count": 33,
   "metadata": {},
   "outputs": [
    {
     "name": "stdout",
     "output_type": "stream",
     "text": [
      "Enter a date in (dd/mm/yy) format:15/07/19\n",
      "Enter a date in (dd/mm/yy) format:24/07/19\n",
      "There are 9 days in between 15/07/19 and 24/07/19\n"
     ]
    }
   ],
   "source": [
    "# program to calculate number of days between two dates\n",
    "\n",
    "date_1 = input(\"Enter a date in (dd/mm/yy) format:\")\n",
    "date_2 = input(\"Enter a date in (dd/mm/yy) format:\")\n",
    "\n",
    "difference = int(date_2[0:2]) - int(date_1[0:2])\n",
    "\n",
    "print(\"There are\", difference, \"days in between\", date_1, \"and\", date_2)"
   ]
  },
  {
   "cell_type": "code",
   "execution_count": 1,
   "metadata": {},
   "outputs": [
    {
     "name": "stdout",
     "output_type": "stream",
     "text": [
      "Enter Radius for Sphere : 5\n",
      "\n",
      "Volume of Sphere  is   523.3333333333333\n"
     ]
    }
   ],
   "source": [
    "# program to get the volume of a sphere\n",
    "\n",
    "r = float(input(\"Enter Radius for Sphere : \"))\n",
    "\n",
    "Volume = 4/3*(3.14*(r**3))\n",
    "\n",
    "print(\"\\nVolume of Sphere  is\", Volume)"
   ]
  },
  {
   "cell_type": "code",
   "execution_count": 8,
   "metadata": {},
   "outputs": [
    {
     "name": "stdout",
     "output_type": "stream",
     "text": [
      "Type any String : Pakistan\n",
      "How many copies of String you need : 5\n",
      "PakistanPakistanPakistanPakistanPakistanPakistan\n"
     ]
    }
   ],
   "source": [
    "# program to get a string which is n (non-negative integer) copies of a given string.   \n",
    "\n",
    "string = input(\"Type any String : \")\n",
    "number_of_copies = int(input(\"How many copies of String you need : \"))\n",
    "result = string*copy\n",
    "print(result)\n"
   ]
  },
  {
   "cell_type": "code",
   "execution_count": null,
   "metadata": {},
   "outputs": [],
   "source": [
    "# program to find whether a given number (accept from the user) is even or odd\n",
    "\n",
    "number = int(input(\"Enter Number: \"))\n",
    "if number % 2 == 0:\n",
    "    print(\"\\n\", number, \"is Even.\")\n",
    "else:\n",
    "    print(\"\\n\", number, \"is Odd.\")"
   ]
  },
  {
   "cell_type": "code",
   "execution_count": 172,
   "metadata": {},
   "outputs": [
    {
     "name": "stdout",
     "output_type": "stream",
     "text": [
      "Enter any character :u\n",
      "\n",
      " u  is a Vowel\n"
     ]
    }
   ],
   "source": [
    "# program to test whether a passed letter is a vowel or not \n",
    "val = input(\"Enter any character :\")\n",
    "\n",
    "if val=='a'or val=='e'or val=='i'or val=='o'or val=='u'or val=='A'or val=='E'or val=='I'or val=='O'or val=='U':\n",
    "    \n",
    "    print(\"\\n\",val ,\" is a Vowel\")\n",
    "    \n",
    "else:\n",
    "    print(\"\\n\",val ,\"is not a Vowel\")"
   ]
  },
  {
   "cell_type": "code",
   "execution_count": 3,
   "metadata": {},
   "outputs": [
    {
     "name": "stdout",
     "output_type": "stream",
     "text": [
      "Enter Height : 5\n",
      "Enter Base : 10\n",
      "\n",
      "Area of Triangle is: 25.0\n"
     ]
    }
   ],
   "source": [
    "# program that will accept the base and height of a triangle and compute the area \n",
    "\n",
    "height = int(input(\"Enter Height : \"))\n",
    "base = int(input(\"Enter Base : \"))\n",
    "\n",
    "Area = (height*base)/2\n",
    "\n",
    "print(\"\\nArea of Triangle is:\", Area)"
   ]
  },
  {
   "cell_type": "code",
   "execution_count": 5,
   "metadata": {},
   "outputs": [
    {
     "name": "stdout",
     "output_type": "stream",
     "text": [
      "\n",
      "Enter Principal Amount:  25000\n",
      "Enter Rate of Interest in % :  1.53\n",
      "Enter Number of Years of Investment:  5\n",
      "\n",
      "\n",
      "After 5 years your principal amount 25000.0 over an interest rate of 1.53 % will be. 26912.5\n"
     ]
    }
   ],
   "source": [
    "#  program to compute the future value of a specified principal amount, rate of interest, and a number of years \n",
    "\n",
    "principal = float(input(\"\\nEnter Principal Amount:  \"))\n",
    "rate = float(input(\"Enter Rate of Interest in % :  \"))\n",
    "years = int(input(\"Enter Number of Years of Investment:  \"))\n",
    "\n",
    "r = rate/100\n",
    "S_interest = principal*(1 + (r*years))\n",
    "\n",
    "print(\"\\n\\nAfter\", years, \"years your principal amount\", principal, \"over an interest rate of\", rate,\"% will be\", S_interest)\n",
    " \n"
   ]
  },
  {
   "cell_type": "code",
   "execution_count": 192,
   "metadata": {},
   "outputs": [
    {
     "name": "stdout",
     "output_type": "stream",
     "text": [
      "Enter co-ordinate for x1 :2\n",
      "Enter co-ordinate for x2 :4\n",
      "Enter co-ordinate for y1 :3\n",
      "Enter co-ordinate for y1 :6\n",
      "\n",
      "Distance =  2.23606797749979\n"
     ]
    }
   ],
   "source": [
    "#program to compute the distance between the points (x1, y1) and (x2, y2). \n",
    "\n",
    "x1 = int(input(\"Enter co-ordinate for x1 :\"))\n",
    "x2 = int(input(\"Enter co-ordinate for x2 :\"))\n",
    "y1 = int(input(\"Enter co-ordinate for y1 :\"))\n",
    "y2 = int(input(\"Enter co-ordinate for y1 :\"))\n",
    "\n",
    "d = (x1-y1)**2 + (x2-y2)**2\n",
    "\n",
    "import math\n",
    "\n",
    "dist = math.sqrt(d)\n",
    "\n",
    "print(\"\\nDistance = \",dist)"
   ]
  },
  {
   "cell_type": "code",
   "execution_count": 6,
   "metadata": {},
   "outputs": [
    {
     "name": "stdout",
     "output_type": "stream",
     "text": [
      "Enter Height in Feet:658\n",
      "\n",
      "There are 20055.84 cm in 658 ft\n"
     ]
    }
   ],
   "source": [
    "#program to convert height in feet to centimetres.  \n",
    "\n",
    "feet = int(input(\"Enter Height in Feet:\"))\n",
    "\n",
    "cent = feet*30.48\n",
    "\n",
    "print(\"\\nThere are\", cent, \"cm in\", feet, \"ft\")"
   ]
  },
  {
   "cell_type": "code",
   "execution_count": 212,
   "metadata": {},
   "outputs": [
    {
     "name": "stdout",
     "output_type": "stream",
     "text": [
      "Enter Height in Cm :169\n",
      "Enter Weight in Kg :78\n",
      "\n",
      "Your BMI is  27.309968138370508\n"
     ]
    }
   ],
   "source": [
    "# program to calculate body mass index \n",
    "\n",
    "height = int(input(\"Enter Height in Cm :\"))\n",
    "weight = int(input(\"Enter Weight in Kg :\"))\n",
    "\n",
    "metre = height/100\n",
    "\n",
    "BMI = weight/metre**2\n",
    "\n",
    "print(\"\\nYour BMI is\", BMI)"
   ]
  },
  {
   "cell_type": "code",
   "execution_count": 7,
   "metadata": {},
   "outputs": [
    {
     "name": "stdout",
     "output_type": "stream",
     "text": [
      "\n",
      "Enter Value of n : 5\n",
      "\n",
      "\n",
      "Sum of n Postive integers from 0 to 5 is 15\n"
     ]
    }
   ],
   "source": [
    "#program to sum of the first n positive integers \n",
    "\n",
    "n = int(input(\"\\nEnter Value of n : \"))\n",
    "\n",
    "sum = 0\n",
    "for i in range(n+1):\n",
    "    sum = sum + i\n",
    "    \n",
    "print(\"\\n\\nSum of n Postive integers from 0 to\", n, \"is\", sum)    "
   ]
  },
  {
   "cell_type": "code",
   "execution_count": 22,
   "metadata": {},
   "outputs": [
    {
     "name": "stdout",
     "output_type": "stream",
     "text": [
      "Enter Number:12345\n",
      "Sum of 1 + 2 + 3 + 4 + 5 + is 15\n"
     ]
    }
   ],
   "source": [
    "# program to calculate the sum of the digits in an integer \n",
    "number = int(input(\"Enter Number:\"))  \n",
    "sum = 0\n",
    "track_numbers = []\n",
    "while(number/10 != number):\n",
    "    digit = number % 10\n",
    "    track_numbers.append(digit)\n",
    "    sum = digit + sum\n",
    "    number = int(number/10)\n",
    "\n",
    "print(\"Sum of \", end='')\n",
    "for numbers in reversed(track_numbers):\n",
    "    print(numbers,\"+ \",end='')\n",
    "print(\"is\", sum)\n"
   ]
  },
  {
   "cell_type": "code",
   "execution_count": 39,
   "metadata": {},
   "outputs": [
    {
     "name": "stdout",
     "output_type": "stream",
     "text": [
      "Enter Decimal: 10\n",
      "Binary Representation is: 1010"
     ]
    }
   ],
   "source": [
    "# program to convert an decimal integer to binary \n",
    "\n",
    "\n",
    "decimal = int(input(\"Enter Decimal: \"))\n",
    "\n",
    "remainders =[]\n",
    "\n",
    "while(decimal != 0):\n",
    "    rem = decimal % 2\n",
    "    remainders.append(rem)\n",
    "    decimal = int(decimal/2)\n",
    "\n",
    "print(\"Binary Representation is: \", end='')\n",
    "for number in reversed(remainders):\n",
    "    print(number,end='')"
   ]
  },
  {
   "cell_type": "code",
   "execution_count": 64,
   "metadata": {},
   "outputs": [
    {
     "name": "stdout",
     "output_type": "stream",
     "text": [
      "Enter Binary: 10111011011\n",
      "Binary Representation:  1499\n"
     ]
    }
   ],
   "source": [
    "# program to convert binary number to Decimal number\n",
    "\n",
    "binary = int(input(\"Enter Binary: \"))\n",
    "\n",
    "decimal = 0\n",
    "counter = 0\n",
    "\n",
    "while(binary != 0):\n",
    "    rem = binary%10\n",
    "    decimal += rem * (2**counter)\n",
    "    binary = binary // 10\n",
    "    counter += 1\n",
    "        \n",
    "\n",
    "print(\"Binary Representation: \", decimal)\n"
   ]
  },
  {
   "cell_type": "code",
   "execution_count": 67,
   "metadata": {},
   "outputs": [
    {
     "name": "stdout",
     "output_type": "stream",
     "text": [
      "Enter Text: aeiou\n",
      "Vowels:  5 \n",
      "Consonants:  0\n"
     ]
    }
   ],
   "source": [
    "#program to count the occurrences of vowels and consonant\n",
    "\n",
    "text = input(\"Enter Text: \")\n",
    "\n",
    "consonants = 0\n",
    "vowels = 0\n",
    "counter = 0\n",
    "\n",
    "while(counter != len(text)):\n",
    "    if (text[counter]=='a'or text[counter]=='e'or text[counter]=='i'or text[counter]=='o'or text[counter]=='u'or text[counter]=='A'or text[counter]=='E'or text[counter]=='I'or text[counter]=='O'or text[counter]=='U'):\n",
    "        vowels += 1\n",
    "    else:\n",
    "        consonants += 1\n",
    "    counter += 1\n",
    "    \n",
    "print(\"Vowels: \", vowels, \"\\nConsonants: \", consonants)"
   ]
  },
  {
   "cell_type": "code",
   "execution_count": 77,
   "metadata": {},
   "outputs": [
    {
     "name": "stdout",
     "output_type": "stream",
     "text": [
      "Enter Text: aha\n",
      "Text is aha Palindrome.\n"
     ]
    }
   ],
   "source": [
    "# program to check whether given input is palindrome or not \n",
    "\n",
    "text = input(\"Enter Text: \")\n",
    "reverse_string = text[::-1]\n",
    "if(text == reverse_string):\n",
    "    print(\"Text is\", text, \"Palindrome.\")\n",
    "else:\n",
    "    print(\"Text is not Palindrome.\")"
   ]
  },
  {
   "cell_type": "code",
   "execution_count": 86,
   "metadata": {},
   "outputs": [
    {
     "name": "stdout",
     "output_type": "stream",
     "text": [
      "Enter Text: Mr.Ibtehaj Amir 987@24-098\n",
      "Numbers:  8 \n",
      "Alphabets:  13 \n",
      "Special_Characters:  3 \n",
      "Spaces:  2\n"
     ]
    }
   ],
   "source": [
    "# program that accepts a string and calculate the number of digits and letters\n",
    "\n",
    "text = input(\"Enter Text: \")\n",
    "\n",
    "numbers = 0\n",
    "alphabets = 0\n",
    "special_characters = 0\n",
    "spaces = 0\n",
    "\n",
    "for character in text:\n",
    "    if(character.isnumeric()):\n",
    "        numbers += 1\n",
    "    elif(character.isalpha()):\n",
    "        alphabets += 1\n",
    "    elif(character.isspace()):\n",
    "        spaces += 1\n",
    "    else:\n",
    "        special_characters += 1\n",
    "\n",
    "    \n",
    "print(\"Numbers: \", numbers, \"\\nAlphabets: \", alphabets, \"\\nSpecial_Characters: \", special_characters, \"\\nSpaces: \",spaces)"
   ]
  },
  {
   "cell_type": "code",
   "execution_count": 92,
   "metadata": {},
   "outputs": [
    {
     "name": "stdout",
     "output_type": "stream",
     "text": [
      "\n",
      "*\n",
      "**\n",
      "***\n",
      "****\n",
      "*****\n",
      "******\n",
      "*****\n",
      "****\n",
      "***\n",
      "**\n",
      "*\n"
     ]
    }
   ],
   "source": [
    "for i in range(6):\n",
    "    for j in range(i):\n",
    "        print(\"*\",end = '')\n",
    "    print()\n",
    "    \n",
    "for i in range(6,0,-1):\n",
    "    for j in range(i):\n",
    "        print('*', end=\"\")\n",
    "    print('')"
   ]
  },
  {
   "cell_type": "code",
   "execution_count": 109,
   "metadata": {},
   "outputs": [
    {
     "name": "stdout",
     "output_type": "stream",
     "text": [
      "\n",
      "\n",
      "1\n",
      "12\n",
      "123\n",
      "1234\n",
      "12345\n",
      "1234\n",
      "123\n",
      "12\n",
      "1\n",
      "\n"
     ]
    }
   ],
   "source": [
    "for i in range(7):\n",
    "    for j in range(1,i):\n",
    "        print(j,end = '')\n",
    "        j=j+1\n",
    "        \n",
    "    print()\n",
    "    \n",
    "for i in range(5,0,-1):\n",
    "    for j in range(1,i):\n",
    "        print(j, end=\"\")\n",
    "    print('')"
   ]
  },
  {
   "cell_type": "code",
   "execution_count": null,
   "metadata": {},
   "outputs": [],
   "source": []
  }
 ],
 "metadata": {
  "kernelspec": {
   "display_name": "Python 3",
   "language": "python",
   "name": "python3"
  },
  "language_info": {
   "codemirror_mode": {
    "name": "ipython",
    "version": 3
   },
   "file_extension": ".py",
   "mimetype": "text/x-python",
   "name": "python",
   "nbconvert_exporter": "python",
   "pygments_lexer": "ipython3",
   "version": "3.7.3"
  }
 },
 "nbformat": 4,
 "nbformat_minor": 2
}
